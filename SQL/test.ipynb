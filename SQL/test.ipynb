{
 "cells": [
  {
   "cell_type": "code",
   "execution_count": 1,
   "metadata": {},
   "outputs": [],
   "source": [
    "\n",
    "import mysql.connector # mysql-connector-python-8.2.0\n"
   ]
  },
  {
   "cell_type": "code",
   "execution_count": 4,
   "metadata": {},
   "outputs": [],
   "source": [
    "class MysqlConnector:\n",
    "  def __init__(self, host: str, user: str, password: str, database: str):\n",
    "    # Connect to the MySQL database\n",
    "    self.db_connection = mysql.connector.connect(\n",
    "      host=host,\n",
    "      user=user,\n",
    "      password=password,\n",
    "      database=database\n",
    "    )\n",
    "    # Create a cursor object to execute SQL queries\n",
    "    self.cursor = self.db_connection.cursor()\n",
    "  def query(self, query: str):\n",
    "    # Define the SQL query to retrieve data from the 'scenes' table\n",
    "    # query = f\"SELECT * FROM scenes WHERE Id = {scene_id}\"\n",
    "    try:\n",
    "      # Execute the query\n",
    "      self.cursor.execute(query)\n",
    "      # Fetch the result (assuming there's only one row for the given ID)\n",
    "      result = self.cursor.fetchone()\n",
    "      if result:\n",
    "        # Return the result as a tuple\n",
    "        return result\n",
    "      else:\n",
    "        # If no result is found for the given ID, return None\n",
    "        return None\n",
    "    except Exception as e:\n",
    "      print(f\"Error: {e}\")\n",
    "  def __del__(self):\n",
    "      # Close the cursor and database connection\n",
    "      self.cursor.close()\n",
    "      self.db_connection.close()"
   ]
  },
  {
   "cell_type": "code",
   "execution_count": 10,
   "metadata": {},
   "outputs": [],
   "source": [
    "mysqlConnector = MysqlConnector(\"192.168.31.6\", \"positioning\", \"positioning\", \"positioning\")"
   ]
  },
  {
   "cell_type": "code",
   "execution_count": 11,
   "metadata": {},
   "outputs": [],
   "source": [
    "mysqlConnector.query(\"SELECT * FROM scenes WHERE Id = 0\")"
   ]
  },
  {
   "cell_type": "code",
   "execution_count": 12,
   "metadata": {},
   "outputs": [],
   "source": [
    "def get_scene_data(host, user, password, database, scene_id):\n",
    "  # Connect to the MySQL database\n",
    "  db_connection = mysql.connector.connect(\n",
    "    host=host,\n",
    "    user=user,\n",
    "    password=password,\n",
    "    database=database\n",
    "  )\n",
    "\n",
    "  # Create a cursor object to execute SQL queries\n",
    "  cursor = db_connection.cursor()\n",
    "\n",
    "  # Define the SQL query to retrieve data from the 'scenes' table\n",
    "  query = f\"SELECT * FROM scenes WHERE Id = {scene_id}\"\n",
    "\n",
    "  try:\n",
    "    # Execute the query\n",
    "    cursor.execute(query)\n",
    "\n",
    "    # Fetch the result (assuming there's only one row for the given ID)\n",
    "    result = cursor.fetchone()\n",
    "\n",
    "    if result:\n",
    "      # Return the result as a tuple\n",
    "      return result\n",
    "    else:\n",
    "      # If no result is found for the given ID, return None\n",
    "      return None\n",
    "\n",
    "  except Exception as e:\n",
    "    print(f\"Error: {e}\")\n",
    "\n",
    "  finally:\n",
    "    # Close the cursor and database connection\n",
    "    cursor.close()\n",
    "    db_connection.close()\n",
    "get_scene_data(\"192.168.31.6\", \"positioning\", \"positioning\", \"positioning\", 1)"
   ]
  },
  {
   "cell_type": "code",
   "execution_count": 19,
   "metadata": {},
   "outputs": [
    {
     "name": "stdout",
     "output_type": "stream",
     "text": [
      "(-1.5, 1.5)\n"
     ]
    }
   ],
   "source": [
    "print(get_scene_data(\"192.168.31.6\", \"positioning\", \"positioning\", \"positioning\", 1)[2:4])"
   ]
  },
  {
   "cell_type": "code",
   "execution_count": null,
   "metadata": {},
   "outputs": [],
   "source": []
  }
 ],
 "metadata": {
  "kernelspec": {
   "display_name": "mmWaveRadarSystem",
   "language": "python",
   "name": "python3"
  },
  "language_info": {
   "codemirror_mode": {
    "name": "ipython",
    "version": 3
   },
   "file_extension": ".py",
   "mimetype": "text/x-python",
   "name": "python",
   "nbconvert_exporter": "python",
   "pygments_lexer": "ipython3",
   "version": "3.11.5"
  }
 },
 "nbformat": 4,
 "nbformat_minor": 2
}
